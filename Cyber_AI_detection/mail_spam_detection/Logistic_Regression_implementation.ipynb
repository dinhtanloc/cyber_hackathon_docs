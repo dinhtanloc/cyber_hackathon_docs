{
  "cells": [
    {
      "cell_type": "code",
      "execution_count": 1,
      "metadata": {
        "id": "ghWhD6ZCmrmn"
      },
      "outputs": [],
      "source": [
        "import pandas as pd\n",
        "import numpy as np\n"
      ]
    },
    {
      "cell_type": "code",
      "execution_count": 2,
      "metadata": {
        "id": "d1jF1kTSmwlP"
      },
      "outputs": [],
      "source": [
        "from sklearn import *\n",
        "from sklearn.linear_model import LogisticRegression\n",
        "from sklearn.metrics import accuracy_score"
      ]
    },
    {
      "cell_type": "code",
      "execution_count": 3,
      "metadata": {
        "id": "rz76LOfVm8d_"
      },
      "outputs": [
        {
          "data": {
            "text/plain": [
              "array([[-1,  1,  1, ...,  1, -1, -1],\n",
              "       [ 1,  1,  1, ...,  1,  1, -1],\n",
              "       [ 1,  0,  1, ...,  0, -1, -1],\n",
              "       ...,\n",
              "       [ 1, -1,  1, ...,  0,  1, -1],\n",
              "       [-1, -1,  1, ...,  1,  1, -1],\n",
              "       [-1, -1,  1, ...,  1, -1, -1]])"
            ]
          },
          "execution_count": 3,
          "metadata": {},
          "output_type": "execute_result"
        }
      ],
      "source": [
        "phishing_dataset = np.genfromtxt('data/phishing_dataset.csv', delimiter=',', dtype=np.int32)\n",
        "samples = phishing_dataset[:,:-1]\n",
        "targets = phishing_dataset[:,-1]\n",
        "phishing_dataset"
      ]
    },
    {
      "cell_type": "code",
      "execution_count": 4,
      "metadata": {
        "colab": {
          "base_uri": "https://localhost:8080/"
        },
        "id": "IZXlTkdUnX55",
        "outputId": "351bdbd0-ab97-49ca-c8d1-4bd5ce55f2c2"
      },
      "outputs": [
        {
          "name": "stdout",
          "output_type": "stream",
          "text": [
            "Logistic Regression Accuracy: 91.67797376752601\n"
          ]
        }
      ],
      "source": [
        "from sklearn.model_selection import train_test_split\n",
        "training_samples, testing_samples, training_targets, testing_targets = train_test_split(samples, targets, test_size=0.2, random_state=0)\n",
        "log_classifier = LogisticRegression()\n",
        "log_classifier.fit(training_samples, training_targets)\n",
        "predictions = log_classifier.predict(testing_samples)\n",
        "accuracy = 100.0*accuracy_score(testing_targets, predictions)\n",
        "print(\"Logistic Regression Accuracy: \" + str(accuracy))"
      ]
    },
    {
      "cell_type": "markdown",
      "metadata": {
        "id": "wEG1BWazoRY_"
      },
      "source": [
        "Advantages:\n",
        "\n",
        "*   The model can be trained very efficiently\n",
        "\n",
        "*   It can be used effectively even in the presence of a large number of features\n",
        "\n",
        "*   The algorithm has a high degree of scalability due to the simplicity of its scoring function\n",
        "\n",
        "\n",
        "Disadvantages:\n",
        "*   The need for the features to be linearly independent (the absence of multicollinearity )\n",
        "*   It needs more training smaples on average than other competing algorithmms\n",
        "\n",
        "*   The maximum liklihood criterion adopted in logistic regression is known to be less powerful than the least squares method iused in linear regression to minimize prediction errors.\n"
      ]
    }
  ],
  "metadata": {
    "colab": {
      "name": "Logistic Regression implementation.ipynb",
      "provenance": []
    },
    "kernelspec": {
      "display_name": "Python 3",
      "name": "python3"
    },
    "language_info": {
      "codemirror_mode": {
        "name": "ipython",
        "version": 3
      },
      "file_extension": ".py",
      "mimetype": "text/x-python",
      "name": "python",
      "nbconvert_exporter": "python",
      "pygments_lexer": "ipython3",
      "version": "3.8.19"
    }
  },
  "nbformat": 4,
  "nbformat_minor": 0
}
